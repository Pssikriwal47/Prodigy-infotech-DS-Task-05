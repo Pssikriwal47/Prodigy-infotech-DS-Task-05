{
 "cells": [
  {
   "cell_type": "code",
   "execution_count": 2,
   "id": "e0d4fae2",
   "metadata": {
    "id": "e0d4fae2"
   },
   "outputs": [],
   "source": [
    "import pandas as pd\n",
    "import matplotlib.pyplot as plt\n",
    "import seaborn as sns\n",
    "%matplotlib inline\n",
    "pd.options.display.float_format = '{:.0f}'.format"
   ]
  },
  {
   "cell_type": "markdown",
   "id": "629657ff",
   "metadata": {
    "id": "629657ff"
   },
   "source": [
    "# Data Wrangling"
   ]
  },
  {
   "cell_type": "code",
   "execution_count": null,
   "id": "60f4a7d2-d5c2-43db-babe-a89d1d84aac6",
   "metadata": {},
   "outputs": [],
   "source": [
    "df=pd.read_csv('US_Accidents_March23.csv')"
   ]
  },
  {
   "cell_type": "markdown",
   "id": "ab1e5f22",
   "metadata": {
    "id": "ab1e5f22"
   },
   "source": [
    "## Data Assesment"
   ]
  },
  {
   "cell_type": "code",
   "execution_count": 4,
   "id": "94b78015",
   "metadata": {
    "colab": {
     "base_uri": "https://localhost:8080/",
     "height": 791
    },
    "id": "94b78015",
    "outputId": "462e7165-170e-4846-bc37-7e95e9801634",
    "scrolled": true
   },
   "outputs": [
    {
     "data": {
      "text/html": [
       "<div>\n",
       "<style scoped>\n",
       "    .dataframe tbody tr th:only-of-type {\n",
       "        vertical-align: middle;\n",
       "    }\n",
       "\n",
       "    .dataframe tbody tr th {\n",
       "        vertical-align: top;\n",
       "    }\n",
       "\n",
       "    .dataframe thead th {\n",
       "        text-align: right;\n",
       "    }\n",
       "</style>\n",
       "<table border=\"1\" class=\"dataframe\">\n",
       "  <thead>\n",
       "    <tr style=\"text-align: right;\">\n",
       "      <th></th>\n",
       "      <th>ID</th>\n",
       "      <th>Source</th>\n",
       "      <th>Severity</th>\n",
       "      <th>Start_Time</th>\n",
       "      <th>End_Time</th>\n",
       "      <th>Start_Lat</th>\n",
       "      <th>Start_Lng</th>\n",
       "      <th>End_Lat</th>\n",
       "      <th>End_Lng</th>\n",
       "      <th>Distance(mi)</th>\n",
       "      <th>...</th>\n",
       "      <th>Roundabout</th>\n",
       "      <th>Station</th>\n",
       "      <th>Stop</th>\n",
       "      <th>Traffic_Calming</th>\n",
       "      <th>Traffic_Signal</th>\n",
       "      <th>Turning_Loop</th>\n",
       "      <th>Sunrise_Sunset</th>\n",
       "      <th>Civil_Twilight</th>\n",
       "      <th>Nautical_Twilight</th>\n",
       "      <th>Astronomical_Twilight</th>\n",
       "    </tr>\n",
       "  </thead>\n",
       "  <tbody>\n",
       "    <tr>\n",
       "      <th>0</th>\n",
       "      <td>A-1</td>\n",
       "      <td>Source2</td>\n",
       "      <td>3</td>\n",
       "      <td>2016-02-08 05:46:00</td>\n",
       "      <td>2016-02-08 11:00:00</td>\n",
       "      <td>40</td>\n",
       "      <td>-84</td>\n",
       "      <td>NaN</td>\n",
       "      <td>NaN</td>\n",
       "      <td>0</td>\n",
       "      <td>...</td>\n",
       "      <td>False</td>\n",
       "      <td>False</td>\n",
       "      <td>False</td>\n",
       "      <td>False</td>\n",
       "      <td>False</td>\n",
       "      <td>False</td>\n",
       "      <td>Night</td>\n",
       "      <td>Night</td>\n",
       "      <td>Night</td>\n",
       "      <td>Night</td>\n",
       "    </tr>\n",
       "    <tr>\n",
       "      <th>1</th>\n",
       "      <td>A-2</td>\n",
       "      <td>Source2</td>\n",
       "      <td>2</td>\n",
       "      <td>2016-02-08 06:07:59</td>\n",
       "      <td>2016-02-08 06:37:59</td>\n",
       "      <td>40</td>\n",
       "      <td>-83</td>\n",
       "      <td>NaN</td>\n",
       "      <td>NaN</td>\n",
       "      <td>0</td>\n",
       "      <td>...</td>\n",
       "      <td>False</td>\n",
       "      <td>False</td>\n",
       "      <td>False</td>\n",
       "      <td>False</td>\n",
       "      <td>False</td>\n",
       "      <td>False</td>\n",
       "      <td>Night</td>\n",
       "      <td>Night</td>\n",
       "      <td>Night</td>\n",
       "      <td>Day</td>\n",
       "    </tr>\n",
       "    <tr>\n",
       "      <th>2</th>\n",
       "      <td>A-3</td>\n",
       "      <td>Source2</td>\n",
       "      <td>2</td>\n",
       "      <td>2016-02-08 06:49:27</td>\n",
       "      <td>2016-02-08 07:19:27</td>\n",
       "      <td>39</td>\n",
       "      <td>-84</td>\n",
       "      <td>NaN</td>\n",
       "      <td>NaN</td>\n",
       "      <td>0</td>\n",
       "      <td>...</td>\n",
       "      <td>False</td>\n",
       "      <td>False</td>\n",
       "      <td>False</td>\n",
       "      <td>False</td>\n",
       "      <td>True</td>\n",
       "      <td>False</td>\n",
       "      <td>Night</td>\n",
       "      <td>Night</td>\n",
       "      <td>Day</td>\n",
       "      <td>Day</td>\n",
       "    </tr>\n",
       "    <tr>\n",
       "      <th>3</th>\n",
       "      <td>A-4</td>\n",
       "      <td>Source2</td>\n",
       "      <td>3</td>\n",
       "      <td>2016-02-08 07:23:34</td>\n",
       "      <td>2016-02-08 07:53:34</td>\n",
       "      <td>40</td>\n",
       "      <td>-84</td>\n",
       "      <td>NaN</td>\n",
       "      <td>NaN</td>\n",
       "      <td>0</td>\n",
       "      <td>...</td>\n",
       "      <td>False</td>\n",
       "      <td>False</td>\n",
       "      <td>False</td>\n",
       "      <td>False</td>\n",
       "      <td>False</td>\n",
       "      <td>False</td>\n",
       "      <td>Night</td>\n",
       "      <td>Day</td>\n",
       "      <td>Day</td>\n",
       "      <td>Day</td>\n",
       "    </tr>\n",
       "    <tr>\n",
       "      <th>4</th>\n",
       "      <td>A-5</td>\n",
       "      <td>Source2</td>\n",
       "      <td>2</td>\n",
       "      <td>2016-02-08 07:39:07</td>\n",
       "      <td>2016-02-08 08:09:07</td>\n",
       "      <td>40</td>\n",
       "      <td>-84</td>\n",
       "      <td>NaN</td>\n",
       "      <td>NaN</td>\n",
       "      <td>0</td>\n",
       "      <td>...</td>\n",
       "      <td>False</td>\n",
       "      <td>False</td>\n",
       "      <td>False</td>\n",
       "      <td>False</td>\n",
       "      <td>True</td>\n",
       "      <td>False</td>\n",
       "      <td>Day</td>\n",
       "      <td>Day</td>\n",
       "      <td>Day</td>\n",
       "      <td>Day</td>\n",
       "    </tr>\n",
       "    <tr>\n",
       "      <th>...</th>\n",
       "      <td>...</td>\n",
       "      <td>...</td>\n",
       "      <td>...</td>\n",
       "      <td>...</td>\n",
       "      <td>...</td>\n",
       "      <td>...</td>\n",
       "      <td>...</td>\n",
       "      <td>...</td>\n",
       "      <td>...</td>\n",
       "      <td>...</td>\n",
       "      <td>...</td>\n",
       "      <td>...</td>\n",
       "      <td>...</td>\n",
       "      <td>...</td>\n",
       "      <td>...</td>\n",
       "      <td>...</td>\n",
       "      <td>...</td>\n",
       "      <td>...</td>\n",
       "      <td>...</td>\n",
       "      <td>...</td>\n",
       "      <td>...</td>\n",
       "    </tr>\n",
       "    <tr>\n",
       "      <th>95</th>\n",
       "      <td>A-96</td>\n",
       "      <td>Source2</td>\n",
       "      <td>2</td>\n",
       "      <td>2016-02-11 07:28:16</td>\n",
       "      <td>2016-02-11 07:58:16</td>\n",
       "      <td>40</td>\n",
       "      <td>-83</td>\n",
       "      <td>NaN</td>\n",
       "      <td>NaN</td>\n",
       "      <td>0</td>\n",
       "      <td>...</td>\n",
       "      <td>False</td>\n",
       "      <td>False</td>\n",
       "      <td>False</td>\n",
       "      <td>False</td>\n",
       "      <td>False</td>\n",
       "      <td>False</td>\n",
       "      <td>Day</td>\n",
       "      <td>Day</td>\n",
       "      <td>Day</td>\n",
       "      <td>Day</td>\n",
       "    </tr>\n",
       "    <tr>\n",
       "      <th>96</th>\n",
       "      <td>A-97</td>\n",
       "      <td>Source2</td>\n",
       "      <td>3</td>\n",
       "      <td>2016-02-11 07:29:06</td>\n",
       "      <td>2016-02-11 08:18:10</td>\n",
       "      <td>41</td>\n",
       "      <td>-82</td>\n",
       "      <td>NaN</td>\n",
       "      <td>NaN</td>\n",
       "      <td>0</td>\n",
       "      <td>...</td>\n",
       "      <td>False</td>\n",
       "      <td>False</td>\n",
       "      <td>False</td>\n",
       "      <td>False</td>\n",
       "      <td>False</td>\n",
       "      <td>False</td>\n",
       "      <td>Day</td>\n",
       "      <td>Day</td>\n",
       "      <td>Day</td>\n",
       "      <td>Day</td>\n",
       "    </tr>\n",
       "    <tr>\n",
       "      <th>97</th>\n",
       "      <td>A-98</td>\n",
       "      <td>Source2</td>\n",
       "      <td>2</td>\n",
       "      <td>2016-02-11 07:53:55</td>\n",
       "      <td>2016-02-11 08:23:55</td>\n",
       "      <td>40</td>\n",
       "      <td>-84</td>\n",
       "      <td>NaN</td>\n",
       "      <td>NaN</td>\n",
       "      <td>0</td>\n",
       "      <td>...</td>\n",
       "      <td>False</td>\n",
       "      <td>False</td>\n",
       "      <td>False</td>\n",
       "      <td>False</td>\n",
       "      <td>False</td>\n",
       "      <td>False</td>\n",
       "      <td>Day</td>\n",
       "      <td>Day</td>\n",
       "      <td>Day</td>\n",
       "      <td>Day</td>\n",
       "    </tr>\n",
       "    <tr>\n",
       "      <th>98</th>\n",
       "      <td>A-99</td>\n",
       "      <td>Source2</td>\n",
       "      <td>2</td>\n",
       "      <td>2016-02-11 08:07:02</td>\n",
       "      <td>2016-02-11 08:37:02</td>\n",
       "      <td>40</td>\n",
       "      <td>-84</td>\n",
       "      <td>NaN</td>\n",
       "      <td>NaN</td>\n",
       "      <td>0</td>\n",
       "      <td>...</td>\n",
       "      <td>False</td>\n",
       "      <td>False</td>\n",
       "      <td>False</td>\n",
       "      <td>False</td>\n",
       "      <td>False</td>\n",
       "      <td>False</td>\n",
       "      <td>Day</td>\n",
       "      <td>Day</td>\n",
       "      <td>Day</td>\n",
       "      <td>Day</td>\n",
       "    </tr>\n",
       "    <tr>\n",
       "      <th>99</th>\n",
       "      <td>A-100</td>\n",
       "      <td>Source2</td>\n",
       "      <td>2</td>\n",
       "      <td>2016-02-11 08:13:24</td>\n",
       "      <td>2016-02-11 08:43:24</td>\n",
       "      <td>40</td>\n",
       "      <td>-84</td>\n",
       "      <td>NaN</td>\n",
       "      <td>NaN</td>\n",
       "      <td>0</td>\n",
       "      <td>...</td>\n",
       "      <td>False</td>\n",
       "      <td>False</td>\n",
       "      <td>False</td>\n",
       "      <td>False</td>\n",
       "      <td>False</td>\n",
       "      <td>False</td>\n",
       "      <td>Day</td>\n",
       "      <td>Day</td>\n",
       "      <td>Day</td>\n",
       "      <td>Day</td>\n",
       "    </tr>\n",
       "  </tbody>\n",
       "</table>\n",
       "<p>100 rows × 46 columns</p>\n",
       "</div>"
      ],
      "text/plain": [
       "       ID   Source  Severity           Start_Time             End_Time   \n",
       "0     A-1  Source2         3  2016-02-08 05:46:00  2016-02-08 11:00:00  \\\n",
       "1     A-2  Source2         2  2016-02-08 06:07:59  2016-02-08 06:37:59   \n",
       "2     A-3  Source2         2  2016-02-08 06:49:27  2016-02-08 07:19:27   \n",
       "3     A-4  Source2         3  2016-02-08 07:23:34  2016-02-08 07:53:34   \n",
       "4     A-5  Source2         2  2016-02-08 07:39:07  2016-02-08 08:09:07   \n",
       "..    ...      ...       ...                  ...                  ...   \n",
       "95   A-96  Source2         2  2016-02-11 07:28:16  2016-02-11 07:58:16   \n",
       "96   A-97  Source2         3  2016-02-11 07:29:06  2016-02-11 08:18:10   \n",
       "97   A-98  Source2         2  2016-02-11 07:53:55  2016-02-11 08:23:55   \n",
       "98   A-99  Source2         2  2016-02-11 08:07:02  2016-02-11 08:37:02   \n",
       "99  A-100  Source2         2  2016-02-11 08:13:24  2016-02-11 08:43:24   \n",
       "\n",
       "    Start_Lat  Start_Lng  End_Lat  End_Lng  Distance(mi)  ... Roundabout   \n",
       "0          40        -84      NaN      NaN             0  ...      False  \\\n",
       "1          40        -83      NaN      NaN             0  ...      False   \n",
       "2          39        -84      NaN      NaN             0  ...      False   \n",
       "3          40        -84      NaN      NaN             0  ...      False   \n",
       "4          40        -84      NaN      NaN             0  ...      False   \n",
       "..        ...        ...      ...      ...           ...  ...        ...   \n",
       "95         40        -83      NaN      NaN             0  ...      False   \n",
       "96         41        -82      NaN      NaN             0  ...      False   \n",
       "97         40        -84      NaN      NaN             0  ...      False   \n",
       "98         40        -84      NaN      NaN             0  ...      False   \n",
       "99         40        -84      NaN      NaN             0  ...      False   \n",
       "\n",
       "   Station   Stop Traffic_Calming Traffic_Signal Turning_Loop Sunrise_Sunset   \n",
       "0    False  False           False          False        False          Night  \\\n",
       "1    False  False           False          False        False          Night   \n",
       "2    False  False           False           True        False          Night   \n",
       "3    False  False           False          False        False          Night   \n",
       "4    False  False           False           True        False            Day   \n",
       "..     ...    ...             ...            ...          ...            ...   \n",
       "95   False  False           False          False        False            Day   \n",
       "96   False  False           False          False        False            Day   \n",
       "97   False  False           False          False        False            Day   \n",
       "98   False  False           False          False        False            Day   \n",
       "99   False  False           False          False        False            Day   \n",
       "\n",
       "   Civil_Twilight Nautical_Twilight Astronomical_Twilight  \n",
       "0           Night             Night                 Night  \n",
       "1           Night             Night                   Day  \n",
       "2           Night               Day                   Day  \n",
       "3             Day               Day                   Day  \n",
       "4             Day               Day                   Day  \n",
       "..            ...               ...                   ...  \n",
       "95            Day               Day                   Day  \n",
       "96            Day               Day                   Day  \n",
       "97            Day               Day                   Day  \n",
       "98            Day               Day                   Day  \n",
       "99            Day               Day                   Day  \n",
       "\n",
       "[100 rows x 46 columns]"
      ]
     },
     "execution_count": 4,
     "metadata": {},
     "output_type": "execute_result"
    }
   ],
   "source": [
    "df.head(100)"
   ]
  },
  {
   "cell_type": "code",
   "execution_count": 5,
   "id": "9fd79f18",
   "metadata": {
    "colab": {
     "base_uri": "https://localhost:8080/"
    },
    "id": "9fd79f18",
    "outputId": "c67329e4-aa62-47c1-e364-f407f3382588"
   },
   "outputs": [
    {
     "data": {
      "text/plain": [
       "(5350763, 46)"
      ]
     },
     "execution_count": 5,
     "metadata": {},
     "output_type": "execute_result"
    }
   ],
   "source": [
    "df.shape"
   ]
  },
  {
   "cell_type": "code",
   "execution_count": 6,
   "id": "b8a3f69b",
   "metadata": {
    "colab": {
     "base_uri": "https://localhost:8080/"
    },
    "id": "b8a3f69b",
    "outputId": "7185b181-9f2b-4f75-d55d-cc019430f03c",
    "scrolled": true
   },
   "outputs": [
    {
     "name": "stdout",
     "output_type": "stream",
     "text": [
      "<class 'pandas.core.frame.DataFrame'>\n",
      "RangeIndex: 5350763 entries, 0 to 5350762\n",
      "Data columns (total 46 columns):\n",
      " #   Column                 Dtype  \n",
      "---  ------                 -----  \n",
      " 0   ID                     object \n",
      " 1   Source                 object \n",
      " 2   Severity               int64  \n",
      " 3   Start_Time             object \n",
      " 4   End_Time               object \n",
      " 5   Start_Lat              float64\n",
      " 6   Start_Lng              float64\n",
      " 7   End_Lat                float64\n",
      " 8   End_Lng                float64\n",
      " 9   Distance(mi)           float64\n",
      " 10  Description            object \n",
      " 11  Street                 object \n",
      " 12  City                   object \n",
      " 13  County                 object \n",
      " 14  State                  object \n",
      " 15  Zipcode                object \n",
      " 16  Country                object \n",
      " 17  Timezone               object \n",
      " 18  Airport_Code           object \n",
      " 19  Weather_Timestamp      object \n",
      " 20  Temperature(F)         float64\n",
      " 21  Wind_Chill(F)          float64\n",
      " 22  Humidity(%)            float64\n",
      " 23  Pressure(in)           float64\n",
      " 24  Visibility(mi)         float64\n",
      " 25  Wind_Direction         object \n",
      " 26  Wind_Speed(mph)        float64\n",
      " 27  Precipitation(in)      float64\n",
      " 28  Weather_Condition      object \n",
      " 29  Amenity                object \n",
      " 30  Bump                   object \n",
      " 31  Crossing               object \n",
      " 32  Give_Way               object \n",
      " 33  Junction               object \n",
      " 34  No_Exit                object \n",
      " 35  Railway                object \n",
      " 36  Roundabout             object \n",
      " 37  Station                object \n",
      " 38  Stop                   object \n",
      " 39  Traffic_Calming        object \n",
      " 40  Traffic_Signal         object \n",
      " 41  Turning_Loop           object \n",
      " 42  Sunrise_Sunset         object \n",
      " 43  Civil_Twilight         object \n",
      " 44  Nautical_Twilight      object \n",
      " 45  Astronomical_Twilight  object \n",
      "dtypes: float64(12), int64(1), object(33)\n",
      "memory usage: 1.8+ GB\n"
     ]
    }
   ],
   "source": [
    "df.info()"
   ]
  },
  {
   "cell_type": "code",
   "execution_count": 7,
   "id": "d403a44b",
   "metadata": {
    "colab": {
     "base_uri": "https://localhost:8080/",
     "height": 320
    },
    "id": "d403a44b",
    "outputId": "5699f532-d389-4f43-bc8b-4199c013c8e4"
   },
   "outputs": [
    {
     "data": {
      "text/html": [
       "<div>\n",
       "<style scoped>\n",
       "    .dataframe tbody tr th:only-of-type {\n",
       "        vertical-align: middle;\n",
       "    }\n",
       "\n",
       "    .dataframe tbody tr th {\n",
       "        vertical-align: top;\n",
       "    }\n",
       "\n",
       "    .dataframe thead th {\n",
       "        text-align: right;\n",
       "    }\n",
       "</style>\n",
       "<table border=\"1\" class=\"dataframe\">\n",
       "  <thead>\n",
       "    <tr style=\"text-align: right;\">\n",
       "      <th></th>\n",
       "      <th>Severity</th>\n",
       "      <th>Start_Lat</th>\n",
       "      <th>Start_Lng</th>\n",
       "      <th>End_Lat</th>\n",
       "      <th>End_Lng</th>\n",
       "      <th>Distance(mi)</th>\n",
       "      <th>Temperature(F)</th>\n",
       "      <th>Wind_Chill(F)</th>\n",
       "      <th>Humidity(%)</th>\n",
       "      <th>Pressure(in)</th>\n",
       "      <th>Visibility(mi)</th>\n",
       "      <th>Wind_Speed(mph)</th>\n",
       "      <th>Precipitation(in)</th>\n",
       "    </tr>\n",
       "  </thead>\n",
       "  <tbody>\n",
       "    <tr>\n",
       "      <th>count</th>\n",
       "      <td>5350763</td>\n",
       "      <td>5350763</td>\n",
       "      <td>5350763</td>\n",
       "      <td>1948001</td>\n",
       "      <td>1948001</td>\n",
       "      <td>5350763</td>\n",
       "      <td>5248793</td>\n",
       "      <td>3631626</td>\n",
       "      <td>5242092</td>\n",
       "      <td>5263253</td>\n",
       "      <td>5236462</td>\n",
       "      <td>4898508</td>\n",
       "      <td>3497004</td>\n",
       "    </tr>\n",
       "    <tr>\n",
       "      <th>mean</th>\n",
       "      <td>2</td>\n",
       "      <td>36</td>\n",
       "      <td>-94</td>\n",
       "      <td>36</td>\n",
       "      <td>-94</td>\n",
       "      <td>0</td>\n",
       "      <td>62</td>\n",
       "      <td>58</td>\n",
       "      <td>65</td>\n",
       "      <td>30</td>\n",
       "      <td>9</td>\n",
       "      <td>8</td>\n",
       "      <td>0</td>\n",
       "    </tr>\n",
       "    <tr>\n",
       "      <th>std</th>\n",
       "      <td>0</td>\n",
       "      <td>5</td>\n",
       "      <td>17</td>\n",
       "      <td>5</td>\n",
       "      <td>18</td>\n",
       "      <td>2</td>\n",
       "      <td>19</td>\n",
       "      <td>23</td>\n",
       "      <td>23</td>\n",
       "      <td>1</td>\n",
       "      <td>3</td>\n",
       "      <td>5</td>\n",
       "      <td>0</td>\n",
       "    </tr>\n",
       "    <tr>\n",
       "      <th>min</th>\n",
       "      <td>1</td>\n",
       "      <td>25</td>\n",
       "      <td>-125</td>\n",
       "      <td>25</td>\n",
       "      <td>-125</td>\n",
       "      <td>0</td>\n",
       "      <td>-89</td>\n",
       "      <td>-89</td>\n",
       "      <td>1</td>\n",
       "      <td>0</td>\n",
       "      <td>0</td>\n",
       "      <td>0</td>\n",
       "      <td>0</td>\n",
       "    </tr>\n",
       "    <tr>\n",
       "      <th>25%</th>\n",
       "      <td>2</td>\n",
       "      <td>33</td>\n",
       "      <td>-112</td>\n",
       "      <td>33</td>\n",
       "      <td>-117</td>\n",
       "      <td>0</td>\n",
       "      <td>50</td>\n",
       "      <td>41</td>\n",
       "      <td>48</td>\n",
       "      <td>29</td>\n",
       "      <td>10</td>\n",
       "      <td>5</td>\n",
       "      <td>0</td>\n",
       "    </tr>\n",
       "    <tr>\n",
       "      <th>50%</th>\n",
       "      <td>2</td>\n",
       "      <td>36</td>\n",
       "      <td>-87</td>\n",
       "      <td>36</td>\n",
       "      <td>-86</td>\n",
       "      <td>0</td>\n",
       "      <td>64</td>\n",
       "      <td>62</td>\n",
       "      <td>67</td>\n",
       "      <td>30</td>\n",
       "      <td>10</td>\n",
       "      <td>7</td>\n",
       "      <td>0</td>\n",
       "    </tr>\n",
       "    <tr>\n",
       "      <th>75%</th>\n",
       "      <td>2</td>\n",
       "      <td>40</td>\n",
       "      <td>-80</td>\n",
       "      <td>40</td>\n",
       "      <td>-80</td>\n",
       "      <td>0</td>\n",
       "      <td>76</td>\n",
       "      <td>75</td>\n",
       "      <td>84</td>\n",
       "      <td>30</td>\n",
       "      <td>10</td>\n",
       "      <td>10</td>\n",
       "      <td>0</td>\n",
       "    </tr>\n",
       "    <tr>\n",
       "      <th>max</th>\n",
       "      <td>4</td>\n",
       "      <td>49</td>\n",
       "      <td>-67</td>\n",
       "      <td>49</td>\n",
       "      <td>-67</td>\n",
       "      <td>442</td>\n",
       "      <td>207</td>\n",
       "      <td>207</td>\n",
       "      <td>100</td>\n",
       "      <td>59</td>\n",
       "      <td>140</td>\n",
       "      <td>823</td>\n",
       "      <td>36</td>\n",
       "    </tr>\n",
       "  </tbody>\n",
       "</table>\n",
       "</div>"
      ],
      "text/plain": [
       "       Severity  Start_Lat  Start_Lng  End_Lat  End_Lng  Distance(mi)   \n",
       "count   5350763    5350763    5350763  1948001  1948001       5350763  \\\n",
       "mean          2         36        -94       36      -94             0   \n",
       "std           0          5         17        5       18             2   \n",
       "min           1         25       -125       25     -125             0   \n",
       "25%           2         33       -112       33     -117             0   \n",
       "50%           2         36        -87       36      -86             0   \n",
       "75%           2         40        -80       40      -80             0   \n",
       "max           4         49        -67       49      -67           442   \n",
       "\n",
       "       Temperature(F)  Wind_Chill(F)  Humidity(%)  Pressure(in)   \n",
       "count         5248793        3631626      5242092       5263253  \\\n",
       "mean               62             58           65            30   \n",
       "std                19             23           23             1   \n",
       "min               -89            -89            1             0   \n",
       "25%                50             41           48            29   \n",
       "50%                64             62           67            30   \n",
       "75%                76             75           84            30   \n",
       "max               207            207          100            59   \n",
       "\n",
       "       Visibility(mi)  Wind_Speed(mph)  Precipitation(in)  \n",
       "count         5236462          4898508            3497004  \n",
       "mean                9                8                  0  \n",
       "std                 3                5                  0  \n",
       "min                 0                0                  0  \n",
       "25%                10                5                  0  \n",
       "50%                10                7                  0  \n",
       "75%                10               10                  0  \n",
       "max               140              823                 36  "
      ]
     },
     "execution_count": 7,
     "metadata": {},
     "output_type": "execute_result"
    }
   ],
   "source": [
    "df.describe()"
   ]
  },
  {
   "cell_type": "markdown",
   "id": "64ef2d1b",
   "metadata": {
    "id": "64ef2d1b"
   },
   "source": [
    "1- (Airport_Code, Wind_Chill, Weather_Timestamp,Source) will be removed as we don't need them in our analysis\n",
    "\n",
    "2- Precipitation column should be removed as it's (Mean,First quartile,Second quartile,Third quartile) are zeros, so the column is useless"
   ]
  },
  {
   "cell_type": "markdown",
   "id": "07a87b19",
   "metadata": {
    "id": "07a87b19"
   },
   "source": [
    "##### checking for unique values"
   ]
  },
  {
   "cell_type": "code",
   "execution_count": 8,
   "id": "21af8a64",
   "metadata": {
    "colab": {
     "base_uri": "https://localhost:8080/"
    },
    "id": "21af8a64",
    "outputId": "40df17cd-2b89-4dc4-cd9c-3248c96352ba"
   },
   "outputs": [
    {
     "name": "stdout",
     "output_type": "stream",
     "text": [
      "unique values in ID: ['A-1' 'A-2' 'A-3' ... 'A-5391396' 'A-5391397' 'A-5391398'] \n",
      "\n",
      "unique values in Source: ['Source2' 'Source3' 'Source1'] \n",
      "\n",
      "unique values in Start_Time: ['2016-02-08 05:46:00' '2016-02-08 06:07:59' '2016-02-08 06:49:27' ...\n",
      " '2022-08-30 15:24:27.000000000' '2022-10-06 21:43:00.000000000'\n",
      " '2022-07-06 13:46:00.000000000'] \n",
      "\n",
      "unique values in End_Time: ['2016-02-08 11:00:00' '2016-02-08 06:37:59' '2016-02-08 07:19:27' ...\n",
      " '2022-08-30 18:45:14.000000000' '2022-07-06 15:01:46.000000000'\n",
      " '2022-07-13 16:28:32.000000000'] \n",
      "\n",
      "unique values in Description: ['Right lane blocked due to accident on I-70 Eastbound at Exit 41 OH-235 State Route 4.'\n",
      " 'Accident on Brice Rd at Tussing Rd. Expect delays.'\n",
      " 'Accident on OH-32 State Route 32 Westbound at Dela Palma Rd. Expect delays.'\n",
      " ... 'Incident on PULASKI RD near I-295 Drive with caution.'\n",
      " 'Incident on I-25 SB near MM 70 Right lane blocked. Expect delays.'\n",
      " 'Incident on OCEAN SHORE BLVD near MARLIN '] \n",
      "\n",
      "unique values in Street: ['I-70 E' 'Brice Rd' 'State Route 32' ... 'Pearl Hall Dr'\n",
      " ' N 24th West Ave' ' Flagstone Dr'] \n",
      "\n",
      "unique values in City: ['Dayton' 'Reynoldsburg' 'Williamsburg' ... 'Indialantic-Melbourne Beach'\n",
      " 'Burkesville' 'Lindside'] \n",
      "\n",
      "unique values in County: ['Montgomery' 'Franklin' 'Clermont' ... 'Mcdowell' 'Fallon' nan] \n",
      "\n",
      "unique values in State: ['OH' 'WV' 'CA' 'FL' 'GA' 'SC' 'NE' 'IA' 'IL' 'MO' 'WI' 'IN' 'MI' 'NJ'\n",
      " 'NY' 'CT' 'MA' 'RI' 'NH' 'PA' 'KY' 'MD' 'VA' 'DC' 'DE' 'TX' 'WA' 'OR'\n",
      " 'AL' 'NC' 'AZ' 'TN' 'LA' 'MN' 'CO' 'OK' 'NV' 'UT' 'KS' 'NM' 'AR' 'MS'\n",
      " 'ME' 'VT' 'WY' 'ID' 'ND' 'MT' 'SD' nan] \n",
      "\n",
      "unique values in Zipcode: ['45424' '43068-3402' '45176' ... '93630-9744' '94602-2142' '45429-2345'] \n",
      "\n",
      "unique values in Country: ['US' nan] \n",
      "\n",
      "unique values in Timezone: ['US/Eastern' 'US/Pacific' nan 'US/Central' 'US/Mountain'] \n",
      "\n",
      "unique values in Airport_Code: ['KFFO' 'KCMH' 'KI69' ... 'KSHC' 'KONL' 'K06D'] \n",
      "\n",
      "unique values in Weather_Timestamp: ['2016-02-08 05:58:00' '2016-02-08 05:51:00' '2016-02-08 06:56:00' ...\n",
      " '2023-02-22 16:03:00' '2022-12-12 07:59:00' '2022-10-11 20:23:00'] \n",
      "\n",
      "unique values in Wind_Direction: ['Calm' 'SW' 'SSW' 'WSW' 'WNW' 'NW' 'West' 'NNW' 'NNE' 'South' 'North'\n",
      " 'Variable' 'SE' 'SSE' 'ESE' 'East' 'NE' 'ENE' 'E' 'W' nan 'S' 'VAR'\n",
      " 'CALM' 'N'] \n",
      "\n",
      "unique values in Weather_Condition: ['Light Rain' 'Overcast' 'Mostly Cloudy' 'Rain' 'Light Snow' 'Haze'\n",
      " 'Scattered Clouds' 'Partly Cloudy' 'Clear' 'Snow'\n",
      " 'Light Freezing Drizzle' 'Light Drizzle' 'Fog' 'Shallow Fog' 'Heavy Rain'\n",
      " 'Light Freezing Rain' 'Cloudy' 'Drizzle' nan 'Light Rain Showers' 'Mist'\n",
      " 'Smoke' 'Patches of Fog' 'Light Freezing Fog' 'Light Haze'\n",
      " 'Light Thunderstorms and Rain' 'Thunderstorms and Rain' 'Fair'\n",
      " 'Volcanic Ash' 'Blowing Sand' 'Blowing Dust / Windy' 'Widespread Dust'\n",
      " 'Fair / Windy' 'Rain Showers' 'Mostly Cloudy / Windy'\n",
      " 'Light Rain / Windy' 'Hail' 'Heavy Drizzle' 'Showers in the Vicinity'\n",
      " 'Thunderstorm' 'Light Rain Shower' 'Light Rain with Thunder'\n",
      " 'Partly Cloudy / Windy' 'Thunder in the Vicinity' 'T-Storm'\n",
      " 'Heavy Thunderstorms and Rain' 'Thunder' 'Heavy T-Storm' 'Funnel Cloud'\n",
      " 'Heavy T-Storm / Windy' 'Blowing Snow' 'Light Thunderstorms and Snow'\n",
      " 'Heavy Snow' 'Low Drifting Snow' 'Light Ice Pellets' 'Ice Pellets'\n",
      " 'Squalls' 'N/A Precipitation' 'Cloudy / Windy' 'Light Fog' 'Sand'\n",
      " 'Snow Grains' 'Snow Showers' 'Heavy Thunderstorms and Snow'\n",
      " 'Rain / Windy' 'Heavy Rain / Windy' 'Heavy Ice Pellets'\n",
      " 'Light Snow / Windy' 'Heavy Freezing Rain' 'Small Hail'\n",
      " 'Heavy Rain Showers' 'Thunder / Windy' 'Drizzle and Fog'\n",
      " 'T-Storm / Windy' 'Blowing Dust' 'Smoke / Windy' 'Haze / Windy' 'Tornado'\n",
      " 'Light Drizzle / Windy' 'Widespread Dust / Windy' 'Wintry Mix'\n",
      " 'Wintry Mix / Windy' 'Light Snow with Thunder' 'Fog / Windy'\n",
      " 'Snow and Thunder' 'Light Snow Shower' 'Sleet' 'Light Snow and Sleet'\n",
      " 'Snow / Windy' 'Rain Shower' 'Snow and Sleet' 'Light Sleet'\n",
      " 'Heavy Snow / Windy' 'Freezing Drizzle' 'Light Freezing Rain / Windy'\n",
      " 'Thunder / Wintry Mix' 'Blowing Snow / Windy' 'Freezing Rain'\n",
      " 'Light Snow and Sleet / Windy' 'Snow and Sleet / Windy' 'Sleet / Windy'\n",
      " 'Heavy Freezing Rain / Windy' 'Squalls / Windy'\n",
      " 'Light Rain Shower / Windy' 'Snow and Thunder / Windy'\n",
      " 'Light Sleet / Windy' 'Sand / Dust Whirlwinds' 'Mist / Windy'\n",
      " 'Drizzle / Windy' 'Duststorm' 'Sand / Dust Whirls Nearby'\n",
      " 'Thunder and Hail' 'Heavy Sleet' 'Freezing Rain / Windy'\n",
      " 'Light Snow Shower / Windy' 'Partial Fog' 'Thunder / Wintry Mix / Windy'\n",
      " 'Patches of Fog / Windy' 'Rain and Sleet' 'Light Snow Grains'\n",
      " 'Partial Fog / Windy' 'Sand / Dust Whirlwinds / Windy'\n",
      " 'Heavy Snow with Thunder' 'Light Snow Showers' 'Heavy Blowing Snow'\n",
      " 'Light Hail' 'Heavy Smoke' 'Heavy Thunderstorms with Small Hail'\n",
      " 'Light Thunderstorm' 'Heavy Freezing Drizzle' 'Light Blowing Snow'\n",
      " 'Thunderstorms and Snow' 'Dust Whirls' 'Rain Shower / Windy'\n",
      " 'Sleet and Thunder' 'Heavy Sleet and Thunder' 'Drifting Snow / Windy'\n",
      " 'Shallow Fog / Windy' 'Thunder and Hail / Windy' 'Heavy Sleet / Windy'] \n",
      "\n",
      "unique values in Amenity: [False True nan] \n",
      "\n",
      "unique values in Bump: [False True nan] \n",
      "\n",
      "unique values in Crossing: [False True nan] \n",
      "\n",
      "unique values in Give_Way: [False True nan] \n",
      "\n",
      "unique values in Junction: [False True nan] \n",
      "\n",
      "unique values in No_Exit: [False True nan] \n",
      "\n",
      "unique values in Railway: [False True nan] \n",
      "\n",
      "unique values in Roundabout: [False True nan] \n",
      "\n",
      "unique values in Station: [False True nan] \n",
      "\n",
      "unique values in Stop: [False True nan] \n",
      "\n",
      "unique values in Traffic_Calming: [False True nan] \n",
      "\n",
      "unique values in Traffic_Signal: [False True nan] \n",
      "\n",
      "unique values in Turning_Loop: [False nan] \n",
      "\n",
      "unique values in Sunrise_Sunset: ['Night' 'Day' nan] \n",
      "\n",
      "unique values in Civil_Twilight: ['Night' 'Day' nan] \n",
      "\n",
      "unique values in Nautical_Twilight: ['Night' 'Day' nan] \n",
      "\n",
      "unique values in Astronomical_Twilight: ['Night' 'Day' nan] \n",
      "\n"
     ]
    }
   ],
   "source": [
    "columns=df.select_dtypes(include='object').columns #selecting non numerical columns\n",
    "for column in columns:\n",
    "    print(f'unique values in {column}: {df[column].unique()} \\n')"
   ]
  },
  {
   "cell_type": "markdown",
   "id": "54782b64",
   "metadata": {
    "id": "54782b64"
   },
   "source": [
    "1- The \"Country\" column should be removed as it contains only one unique country, so i will be useless in our analysis\n",
    "\n",
    "2- States should be converted to full name instead of abbreviations"
   ]
  },
  {
   "cell_type": "markdown",
   "id": "2379febd",
   "metadata": {
    "id": "2379febd"
   },
   "source": [
    "##### Checking for null values"
   ]
  },
  {
   "cell_type": "code",
   "execution_count": 9,
   "id": "ca8f8a28",
   "metadata": {
    "colab": {
     "base_uri": "https://localhost:8080/"
    },
    "id": "ca8f8a28",
    "outputId": "8e0d69d6-a639-4bb4-dbfb-59a16fc18fb8"
   },
   "outputs": [
    {
     "data": {
      "text/plain": [
       "ID                             0\n",
       "Source                         0\n",
       "Severity                       0\n",
       "Start_Time                     0\n",
       "End_Time                       0\n",
       "Start_Lat                      0\n",
       "Start_Lng                      0\n",
       "End_Lat                  3402762\n",
       "End_Lng                  3402762\n",
       "Distance(mi)                   0\n",
       "Description                    5\n",
       "Street                      7790\n",
       "City                         148\n",
       "County                         1\n",
       "State                          1\n",
       "Zipcode                      915\n",
       "Country                        1\n",
       "Timezone                    4638\n",
       "Airport_Code               13928\n",
       "Weather_Timestamp          73625\n",
       "Temperature(F)            101970\n",
       "Wind_Chill(F)            1719137\n",
       "Humidity(%)               108671\n",
       "Pressure(in)               87510\n",
       "Visibility(mi)            114301\n",
       "Wind_Direction            106621\n",
       "Wind_Speed(mph)           452255\n",
       "Precipitation(in)        1853759\n",
       "Weather_Condition         110748\n",
       "Amenity                        1\n",
       "Bump                           1\n",
       "Crossing                       1\n",
       "Give_Way                       1\n",
       "Junction                       1\n",
       "No_Exit                        1\n",
       "Railway                        1\n",
       "Roundabout                     1\n",
       "Station                        1\n",
       "Stop                           1\n",
       "Traffic_Calming                1\n",
       "Traffic_Signal                 1\n",
       "Turning_Loop                   1\n",
       "Sunrise_Sunset             16120\n",
       "Civil_Twilight             16120\n",
       "Nautical_Twilight          16120\n",
       "Astronomical_Twilight      16120\n",
       "dtype: int64"
      ]
     },
     "execution_count": 9,
     "metadata": {},
     "output_type": "execute_result"
    }
   ],
   "source": [
    "df.isnull().sum()"
   ]
  },
  {
   "cell_type": "markdown",
   "id": "3a04dca7",
   "metadata": {
    "id": "3a04dca7"
   },
   "source": [
    "### Missing values\n",
    "##### \n",
    "1- (End_Lat,End_Lng) columns will be removed as they contain about 70% of their values \"NaN\"\n",
    "#####\n",
    "2- (Description, Street, City, County, State, Zipcode, Country,Timezone, Amenity, Bump, Crossing, Give_Way, Junction, No_Exit, Railway, Roundabout, Station, Stop, Traffic_Calming, Traffic_Signal, Turning_Loop, Astronomical_Twilight, Nautical_Twilight, Civil_Twilight, Sunrise_Sunset)\n",
    "\n",
    "The null values in these columns will be removed as they represent a very small portion of our data and removing them will not affect our analysis\n",
    "##### \n",
    "3- (Temperature,Visibility,Pressure,Humidity,Wind_Speed) : The missing values will be filled by the mean\n",
    "##### \n",
    "4- (Weather_Condition,Wind_Direction) : The missing values will be filled by the mode"
   ]
  },
  {
   "cell_type": "markdown",
   "id": "c2e68474",
   "metadata": {
    "id": "c2e68474"
   },
   "source": [
    "##### Checking for duplicate values"
   ]
  },
  {
   "cell_type": "code",
   "execution_count": 10,
   "id": "20eab391",
   "metadata": {
    "colab": {
     "base_uri": "https://localhost:8080/"
    },
    "id": "20eab391",
    "outputId": "17fa8689-ed23-4f0e-c48e-4161062d584d",
    "scrolled": true
   },
   "outputs": [
    {
     "data": {
      "text/plain": [
       "False"
      ]
     },
     "execution_count": 10,
     "metadata": {},
     "output_type": "execute_result"
    }
   ],
   "source": [
    "df.duplicated().any()"
   ]
  },
  {
   "cell_type": "markdown",
   "id": "066548ae",
   "metadata": {
    "id": "066548ae"
   },
   "source": [
    "There are no duplicates"
   ]
  },
  {
   "cell_type": "markdown",
   "id": "93f9aacb",
   "metadata": {
    "id": "93f9aacb"
   },
   "source": [
    "##### Checking data types"
   ]
  },
  {
   "cell_type": "code",
   "execution_count": 11,
   "id": "ad8d69c5",
   "metadata": {
    "colab": {
     "base_uri": "https://localhost:8080/"
    },
    "id": "ad8d69c5",
    "outputId": "7a31428a-fc4e-4b1b-828c-8624b405b703"
   },
   "outputs": [
    {
     "data": {
      "text/plain": [
       "ID                        object\n",
       "Source                    object\n",
       "Severity                   int64\n",
       "Start_Time                object\n",
       "End_Time                  object\n",
       "Start_Lat                float64\n",
       "Start_Lng                float64\n",
       "End_Lat                  float64\n",
       "End_Lng                  float64\n",
       "Distance(mi)             float64\n",
       "Description               object\n",
       "Street                    object\n",
       "City                      object\n",
       "County                    object\n",
       "State                     object\n",
       "Zipcode                   object\n",
       "Country                   object\n",
       "Timezone                  object\n",
       "Airport_Code              object\n",
       "Weather_Timestamp         object\n",
       "Temperature(F)           float64\n",
       "Wind_Chill(F)            float64\n",
       "Humidity(%)              float64\n",
       "Pressure(in)             float64\n",
       "Visibility(mi)           float64\n",
       "Wind_Direction            object\n",
       "Wind_Speed(mph)          float64\n",
       "Precipitation(in)        float64\n",
       "Weather_Condition         object\n",
       "Amenity                   object\n",
       "Bump                      object\n",
       "Crossing                  object\n",
       "Give_Way                  object\n",
       "Junction                  object\n",
       "No_Exit                   object\n",
       "Railway                   object\n",
       "Roundabout                object\n",
       "Station                   object\n",
       "Stop                      object\n",
       "Traffic_Calming           object\n",
       "Traffic_Signal            object\n",
       "Turning_Loop              object\n",
       "Sunrise_Sunset            object\n",
       "Civil_Twilight            object\n",
       "Nautical_Twilight         object\n",
       "Astronomical_Twilight     object\n",
       "dtype: object"
      ]
     },
     "execution_count": 11,
     "metadata": {},
     "output_type": "execute_result"
    }
   ],
   "source": [
    "df.dtypes"
   ]
  },
  {
   "cell_type": "markdown",
   "id": "d5d04f7a",
   "metadata": {
    "id": "d5d04f7a"
   },
   "source": [
    "### Data types\n",
    "1- (Start_Time, End_time) should be converted to datetime datatype to apply datetime functions on them\n",
    "#####\n",
    "2- (Amenity, Bump, Crossing, Give_Way, Junction, No_Exit, Railway, Roundabout, Station, Stop, Traffic_Calming, Traffic_Signal, Turning_Loop) should be converted to boolean datatype\n"
   ]
  },
  {
   "cell_type": "markdown",
   "id": "cad78988",
   "metadata": {
    "id": "cad78988"
   },
   "source": [
    "## Data Cleaning"
   ]
  },
  {
   "cell_type": "markdown",
   "id": "f15cfc5b",
   "metadata": {
    "id": "f15cfc5b"
   },
   "source": [
    "##### Removing unnecessary columns"
   ]
  },
  {
   "cell_type": "code",
   "execution_count": 12,
   "id": "09db6be8",
   "metadata": {
    "id": "09db6be8"
   },
   "outputs": [],
   "source": [
    "df.drop(columns=['Airport_Code','Wind_Chill(F)', 'Weather_Timestamp', 'Precipitation(in)','Country','Source'],inplace=True)"
   ]
  },
  {
   "cell_type": "code",
   "execution_count": 13,
   "id": "e5f54338",
   "metadata": {
    "colab": {
     "base_uri": "https://localhost:8080/"
    },
    "id": "e5f54338",
    "outputId": "7d8f055f-a620-425c-874b-eb73f5870a33"
   },
   "outputs": [
    {
     "name": "stdout",
     "output_type": "stream",
     "text": [
      "<class 'pandas.core.frame.DataFrame'>\n",
      "RangeIndex: 5350763 entries, 0 to 5350762\n",
      "Data columns (total 40 columns):\n",
      " #   Column                 Dtype  \n",
      "---  ------                 -----  \n",
      " 0   ID                     object \n",
      " 1   Severity               int64  \n",
      " 2   Start_Time             object \n",
      " 3   End_Time               object \n",
      " 4   Start_Lat              float64\n",
      " 5   Start_Lng              float64\n",
      " 6   End_Lat                float64\n",
      " 7   End_Lng                float64\n",
      " 8   Distance(mi)           float64\n",
      " 9   Description            object \n",
      " 10  Street                 object \n",
      " 11  City                   object \n",
      " 12  County                 object \n",
      " 13  State                  object \n",
      " 14  Zipcode                object \n",
      " 15  Timezone               object \n",
      " 16  Temperature(F)         float64\n",
      " 17  Humidity(%)            float64\n",
      " 18  Pressure(in)           float64\n",
      " 19  Visibility(mi)         float64\n",
      " 20  Wind_Direction         object \n",
      " 21  Wind_Speed(mph)        float64\n",
      " 22  Weather_Condition      object \n",
      " 23  Amenity                object \n",
      " 24  Bump                   object \n",
      " 25  Crossing               object \n",
      " 26  Give_Way               object \n",
      " 27  Junction               object \n",
      " 28  No_Exit                object \n",
      " 29  Railway                object \n",
      " 30  Roundabout             object \n",
      " 31  Station                object \n",
      " 32  Stop                   object \n",
      " 33  Traffic_Calming        object \n",
      " 34  Traffic_Signal         object \n",
      " 35  Turning_Loop           object \n",
      " 36  Sunrise_Sunset         object \n",
      " 37  Civil_Twilight         object \n",
      " 38  Nautical_Twilight      object \n",
      " 39  Astronomical_Twilight  object \n",
      "dtypes: float64(10), int64(1), object(29)\n",
      "memory usage: 1.6+ GB\n"
     ]
    }
   ],
   "source": [
    "df.info()"
   ]
  },
  {
   "cell_type": "markdown",
   "id": "9b31d544",
   "metadata": {
    "id": "9b31d544"
   },
   "source": [
    "### Convert abbreviations to full state names"
   ]
  },
  {
   "cell_type": "code",
   "execution_count": 14,
   "id": "b50f1508",
   "metadata": {
    "id": "b50f1508"
   },
   "outputs": [],
   "source": [
    "state_map = {\n",
    "    'AL': 'Alabama', 'AK': 'Alaska', 'AZ': 'Arizona', 'AR': 'Arkansas', 'CA': 'California',\n",
    "    'CO': 'Colorado', 'CT': 'Connecticut', 'DE': 'Delaware', 'FL': 'Florida', 'GA': 'Georgia',\n",
    "    'HI': 'Hawaii', 'ID': 'Idaho', 'IL': 'Illinois', 'IN': 'Indiana', 'IA': 'Iowa',\n",
    "    'KS': 'Kansas', 'KY': 'Kentucky', 'LA': 'Louisiana', 'ME': 'Maine', 'MD': 'Maryland',\n",
    "    'MA': 'Massachusetts', 'MI': 'Michigan', 'MN': 'Minnesota', 'MS': 'Mississippi',\n",
    "    'MO': 'Missouri', 'MT': 'Montana', 'NE': 'Nebraska', 'NV': 'Nevada', 'NH': 'New Hampshire',\n",
    "    'NJ': 'New Jersey', 'NM': 'New Mexico', 'NY': 'New York', 'NC': 'North Carolina',\n",
    "    'ND': 'North Dakota', 'OH': 'Ohio', 'OK': 'Oklahoma', 'OR': 'Oregon', 'PA': 'Pennsylvania',\n",
    "    'RI': 'Rhode Island', 'SC': 'South Carolina', 'SD': 'South Dakota', 'TN': 'Tennessee',\n",
    "    'TX': 'Texas', 'UT': 'Utah', 'VT': 'Vermont', 'VA': 'Virginia', 'WA': 'Washington',\n",
    "    'WV': 'West Virginia', 'WI': 'Wisconsin', 'WY': 'Wyoming', 'DC': 'District of Columbia'\n",
    "}\n",
    "df['State'] = df['State'].map(state_map)"
   ]
  },
  {
   "cell_type": "markdown",
   "id": "0521172e",
   "metadata": {
    "id": "0521172e"
   },
   "source": [
    "##### Null values"
   ]
  },
  {
   "cell_type": "code",
   "execution_count": 15,
   "id": "570d651c",
   "metadata": {
    "id": "570d651c"
   },
   "outputs": [],
   "source": [
    "df.dropna(subset=['Description', 'Street', 'City', 'County', 'State', 'Zipcode', 'Timezone', 'Amenity', 'Bump', 'Crossing', 'Give_Way', 'Junction', 'No_Exit', 'Railway', 'Roundabout', 'Station', 'Stop', 'Traffic_Calming', 'Traffic_Signal', 'Turning_Loop', 'Astronomical_Twilight', 'Nautical_Twilight', 'Civil_Twilight', 'Sunrise_Sunset'],inplace=True)"
   ]
  },
  {
   "cell_type": "code",
   "execution_count": 16,
   "id": "048e4483",
   "metadata": {
    "id": "048e4483"
   },
   "outputs": [],
   "source": [
    "df.drop(columns=['End_Lat','End_Lng','Start_Lat','Start_Lng'],inplace=True)"
   ]
  },
  {
   "cell_type": "code",
   "execution_count": 17,
   "id": "dfdbe78c",
   "metadata": {
    "id": "dfdbe78c"
   },
   "outputs": [],
   "source": [
    "df['Humidity(%)'].fillna(df['Humidity(%)'].mean(), inplace=True)\n",
    "df['Pressure(in)'].fillna(df['Pressure(in)'].mean(), inplace=True)\n",
    "df['Visibility(mi)'].fillna(df['Visibility(mi)'].mean(), inplace=True)\n",
    "df['Temperature(F)'].fillna(df['Temperature(F)'].mean(), inplace=True)\n",
    "df['Wind_Speed(mph)'].fillna(df['Wind_Speed(mph)'].mean(), inplace=True)\n",
    "df['Wind_Direction'].fillna(df['Wind_Direction'].mode()[0], inplace=True)\n",
    "df['Weather_Condition'].fillna(df['Weather_Condition'].mode()[0], inplace=True)"
   ]
  },
  {
   "cell_type": "code",
   "execution_count": 18,
   "id": "a2f82235",
   "metadata": {
    "colab": {
     "base_uri": "https://localhost:8080/"
    },
    "id": "a2f82235",
    "outputId": "6afb20e6-5d21-4ac6-9849-a8d6d932a59a"
   },
   "outputs": [
    {
     "data": {
      "text/plain": [
       "ID                       0\n",
       "Severity                 0\n",
       "Start_Time               0\n",
       "End_Time                 0\n",
       "Distance(mi)             0\n",
       "Description              0\n",
       "Street                   0\n",
       "City                     0\n",
       "County                   0\n",
       "State                    0\n",
       "Zipcode                  0\n",
       "Timezone                 0\n",
       "Temperature(F)           0\n",
       "Humidity(%)              0\n",
       "Pressure(in)             0\n",
       "Visibility(mi)           0\n",
       "Wind_Direction           0\n",
       "Wind_Speed(mph)          0\n",
       "Weather_Condition        0\n",
       "Amenity                  0\n",
       "Bump                     0\n",
       "Crossing                 0\n",
       "Give_Way                 0\n",
       "Junction                 0\n",
       "No_Exit                  0\n",
       "Railway                  0\n",
       "Roundabout               0\n",
       "Station                  0\n",
       "Stop                     0\n",
       "Traffic_Calming          0\n",
       "Traffic_Signal           0\n",
       "Turning_Loop             0\n",
       "Sunrise_Sunset           0\n",
       "Civil_Twilight           0\n",
       "Nautical_Twilight        0\n",
       "Astronomical_Twilight    0\n",
       "dtype: int64"
      ]
     },
     "execution_count": 18,
     "metadata": {},
     "output_type": "execute_result"
    }
   ],
   "source": [
    "df.isnull().sum()"
   ]
  },
  {
   "cell_type": "code",
   "execution_count": 19,
   "id": "00e00b73",
   "metadata": {
    "id": "00e00b73"
   },
   "outputs": [],
   "source": [
    "df['Start_Time'] = pd.to_datetime(df['Start_Time'],format='%Y-%m-%d %H:%M:%S', errors='coerce')\n",
    "df['End_Time'] = pd.to_datetime(df['End_Time'],format='%Y-%m-%d %H:%M:%S', errors='coerce')\n",
    "\n",
    "# List of columns to be converted to boolean\n",
    "boolean_columns = [\n",
    "    'Amenity', 'Bump', 'Crossing', 'Give_Way', 'Junction', 'No_Exit', 'Railway',\n",
    "    'Roundabout', 'Station', 'Stop', 'Traffic_Calming', 'Traffic_Signal', 'Turning_Loop'\n",
    "]\n",
    "\n",
    "for column in boolean_columns:\n",
    "    df[column] = df[column].astype(bool)"
   ]
  },
  {
   "cell_type": "code",
   "execution_count": 20,
   "id": "f0c266a8",
   "metadata": {
    "colab": {
     "base_uri": "https://localhost:8080/"
    },
    "id": "f0c266a8",
    "outputId": "2fa21187-52d2-4609-ad4f-0726c6881da4"
   },
   "outputs": [
    {
     "data": {
      "text/plain": [
       "ID                               object\n",
       "Severity                          int64\n",
       "Start_Time               datetime64[ns]\n",
       "End_Time                 datetime64[ns]\n",
       "Distance(mi)                    float64\n",
       "Description                      object\n",
       "Street                           object\n",
       "City                             object\n",
       "County                           object\n",
       "State                            object\n",
       "Zipcode                          object\n",
       "Timezone                         object\n",
       "Temperature(F)                  float64\n",
       "Humidity(%)                     float64\n",
       "Pressure(in)                    float64\n",
       "Visibility(mi)                  float64\n",
       "Wind_Direction                   object\n",
       "Wind_Speed(mph)                 float64\n",
       "Weather_Condition                object\n",
       "Amenity                            bool\n",
       "Bump                               bool\n",
       "Crossing                           bool\n",
       "Give_Way                           bool\n",
       "Junction                           bool\n",
       "No_Exit                            bool\n",
       "Railway                            bool\n",
       "Roundabout                         bool\n",
       "Station                            bool\n",
       "Stop                               bool\n",
       "Traffic_Calming                    bool\n",
       "Traffic_Signal                     bool\n",
       "Turning_Loop                       bool\n",
       "Sunrise_Sunset                   object\n",
       "Civil_Twilight                   object\n",
       "Nautical_Twilight                object\n",
       "Astronomical_Twilight            object\n",
       "dtype: object"
      ]
     },
     "execution_count": 20,
     "metadata": {},
     "output_type": "execute_result"
    }
   ],
   "source": [
    "df.dtypes"
   ]
  },
  {
   "cell_type": "markdown",
   "id": "78a33bd0",
   "metadata": {
    "id": "78a33bd0"
   },
   "source": [
    "# EDA"
   ]
  },
  {
   "cell_type": "markdown",
   "id": "7fa5f901",
   "metadata": {
    "id": "7fa5f901"
   },
   "source": [
    "### Distribution of Traffic Accidents in the 10 Most Affected U.S. Cities"
   ]
  },
  {
   "cell_type": "code",
   "execution_count": 22,
   "id": "a3517252",
   "metadata": {
    "colab": {
     "base_uri": "https://localhost:8080/",
     "height": 446
    },
    "id": "a3517252",
    "outputId": "d6fca17e-103d-41d3-fe60-8a618fab4f1b"
   },
   "outputs": [
    {
     "data": {
      "text/plain": [
       "Text(0.5, 1.0, 'Top 10 US Cites by Accident Count Distribution')"
      ]
     },
     "execution_count": 22,
     "metadata": {},
     "output_type": "execute_result"
    },
    {
     "data": {
      "image/png": "[encoded data removed]",
      "text/plain": [
       "<Figure size 432x288 with 1 Axes>"
      ]
     },
     "metadata": {},
     "output_type": "display_data"
    }
   ],
   "source": [
    "df['City'].value_counts().nlargest(10).plot(kind='pie',autopct='%1.1f%%',colors=sns.color_palette('gnuplot'))\n",
    "plt.title('Top 10 US Cites by Accident Count Distribution')"
   ]
  },
  {
   "cell_type": "markdown",
   "id": "9731b49e",
   "metadata": {
    "id": "9731b49e"
   },
   "source": [
    "### Distribution of Traffic Accidents in the 10 Most Affected U.S. States"
   ]
  },
  {
   "cell_type": "code",
   "execution_count": 23,
   "id": "b7d4fe78",
   "metadata": {
    "colab": {
     "base_uri": "https://localhost:8080/",
     "height": 446
    },
    "id": "b7d4fe78",
    "outputId": "b7333b72-e6e0-46e8-dc61-918df65df29e"
   },
   "outputs": [
    {
     "data": {
      "text/plain": [
       "Text(0, 0.5, '')"
      ]
     },
     "execution_count": 23,
     "metadata": {},
     "output_type": "execute_result"
    },
    {
     "data": {
      "image/png": "[encoded data removed]",
      "text/plain": [
       "<Figure size 432x288 with 1 Axes>"
      ]
     },
     "metadata": {},
     "output_type": "display_data"
    }
   ],
   "source": [
    "df['State'].value_counts().nlargest(10).plot(kind='pie',autopct='%1.1f%%',colors=sns.color_palette('gnuplot'))\n",
    "plt.title('Top 10 US States by Accident Count Distribution')\n",
    "plt.ylabel('')"
   ]
  },
  {
   "cell_type": "markdown",
   "id": "9e5d36ad",
   "metadata": {
    "id": "9e5d36ad"
   },
   "source": [
    "**California** accounts for the largest proportion of accidents, with **30.4%** of the total accidents among the top 10 states"
   ]
  },
  {
   "cell_type": "markdown",
   "id": "5f1a5c0e",
   "metadata": {
    "id": "5f1a5c0e"
   },
   "source": [
    "## Time Series Analysis"
   ]
  },
  {
   "cell_type": "code",
   "execution_count": 24,
   "id": "cf1ec534",
   "metadata": {
    "id": "cf1ec534"
   },
   "outputs": [],
   "source": [
    "df['Year']=df['Start_Time'].dt.year\n",
    "df['Month'] = df['Start_Time'].dt.month\n",
    "df['Day'] = df['Start_Time'].dt.day\n",
    "df['Hour'] = df['Start_Time'].dt.hour\n",
    "df['Is_Weekend'] = df['Start_Time'].dt.dayofweek >= 5"
   ]
  },
  {
   "cell_type": "code",
   "execution_count": 25,
   "id": "0d263d7f",
   "metadata": {
    "colab": {
     "base_uri": "https://localhost:8080/"
    },
    "id": "0d263d7f",
    "outputId": "df7f1695-a583-41c8-bbb7-98d0e5badca9"
   },
   "outputs": [
    {
     "data": {
      "text/plain": [
       "Year          float64\n",
       "Month         float64\n",
       "Hour          float64\n",
       "Day           float64\n",
       "Is_Weekend       bool\n",
       "dtype: object"
      ]
     },
     "execution_count": 25,
     "metadata": {},
     "output_type": "execute_result"
    }
   ],
   "source": [
    "df[['Year','Month','Hour','Day','Is_Weekend']].dtypes #checking data types of new columns"
   ]
  },
  {
   "cell_type": "code",
   "execution_count": 26,
   "id": "270b4674",
   "metadata": {
    "id": "270b4674"
   },
   "outputs": [],
   "source": [
    "df['Year'] = df['Year'].fillna(0).astype('int')\n",
    "df['Month'] = df['Month'].fillna(0).astype('int')\n",
    "df['Hour'] = df['Hour'].fillna(0).astype('int')\n",
    "df['Day'] = df['Day'].fillna(0).astype('int')"
   ]
  },
  {
   "cell_type": "markdown",
   "id": "5e97599b",
   "metadata": {
    "id": "5e97599b"
   },
   "source": [
    "### How the number of accidents changed from 2016 to 2022 ?  \n",
    "Note: I excluded 2023 from this plot because the data for 2023 only covers up to March, which means we only have data for the first three months of the year. Including this incomplete data would result in a significantly lower number of accidents for 2023 compared to the previous years, potentially misleading our analysis."
   ]
  },
  {
   "cell_type": "code",
   "execution_count": 27,
   "id": "231bc75b",
   "metadata": {
    "colab": {
     "base_uri": "https://localhost:8080/",
     "height": 490
    },
    "id": "231bc75b",
    "outputId": "e5d094ab-7138-4aa4-f706-161028287708"
   },
   "outputs": [
    {
     "data": {
      "text/plain": [
       "Text(0, 0.5, 'Number of Accidents')"
      ]
     },
     "execution_count": 27,
     "metadata": {},
     "output_type": "execute_result"
    },
    {
     "data": {
      "image/png": "[encoded data removed]",
      "text/plain": [
       "<Figure size 432x288 with 1 Axes>"
      ]
     },
     "metadata": {
      "needs_background": "light"
     },
     "output_type": "display_data"
    }
   ],
   "source": [
    "df[df['Year'].between(2016, 2022)].groupby('Year')['ID'].count().plot()\n",
    "plt.title('Number of Accidents per Year')\n",
    "plt.xlabel('Year')\n",
    "plt.ylabel('Number of Accidents')"
   ]
  },
  {
   "cell_type": "markdown",
   "id": "0c827f37",
   "metadata": {
    "id": "0c827f37"
   },
   "source": [
    "There is a noticeable fluctuation in accidents, with a significant peak in 2018 and a sharp increase in 2022. The drop in 2020 likely reflects the impact of COVID-19 lockdowns, which reduced travel and consequently the number of accidents."
   ]
  },
  {
   "cell_type": "code",
   "execution_count": null,
   "id": "9c520002-d39d-4f8a-a607-6aa83cb7ad5e",
   "metadata": {
    "colab": {
     "base_uri": "https://localhost:8080/",
     "height": 148
    },
    "id": "881c9843",
    "outputId": "d7cdadde-3629-42f6-dc11-457cc75117a0"
   },
   "outputs": [],
   "source": [
    "### How the number of accidents changed over months ?\n",
    "\n",
    "sns.countplot('Month',data=df[df['Month'].between(1, 12)])"
   ]
  },
  {
   "cell_type": "markdown",
   "id": "ed5062a7",
   "metadata": {
    "id": "ed5062a7"
   },
   "source": [
    "**January** has the highest number of accidents, we will explore the reasons for this"
   ]
  },
  {
   "cell_type": "markdown",
   "id": "a5556d32",
   "metadata": {
    "id": "a5556d32"
   },
   "source": [
    "### What are the top 10 weather conditions in January?"
   ]
  },
  {
   "cell_type": "code",
   "execution_count": 29,
   "id": "89914d64",
   "metadata": {
    "id": "89914d64"
   },
   "outputs": [],
   "source": [
    "df_january=df[df['Month']==1]"
   ]
  },
  {
   "cell_type": "code",
   "execution_count": 30,
   "id": "fdfd1e41",
   "metadata": {
    "colab": {
     "base_uri": "https://localhost:8080/",
     "height": 797
    },
    "id": "fdfd1e41",
    "outputId": "1c4a6a23-f74d-4e17-9c9d-9da1e8eb7871"
   },
   "outputs": [
    {
     "data": {
      "text/plain": [
       "Text(0, 0.5, 'Number of Accidents')"
      ]
     },
     "execution_count": 30,
     "metadata": {},
     "output_type": "execute_result"
    },
    {
     "data": {
      "image/png": "[encoded data removed]",
      "text/plain": [
       "<Figure size 432x288 with 1 Axes>"
      ]
     },
     "metadata": {
      "needs_background": "light"
     },
     "output_type": "display_data"
    }
   ],
   "source": [
    "df_january['Weather_Condition'].value_counts().nlargest(10).plot(kind='bar')\n",
    "plt.title('Top 10 Weather Conditions in January Accidents')\n",
    "plt.xlabel('Weather Condition')\n",
    "plt.ylabel('Number of Accidents')"
   ]
  },
  {
   "cell_type": "markdown",
   "id": "ecdc135a",
   "metadata": {
    "id": "ecdc135a"
   },
   "source": [
    "There is a noticable peak on accidents on **January(1st)** which can be related to **New year's celebrations** and potentially increased alcohol consumption, The number of accidents tends to decrease after **January 1st**, possibly due to people recovering from New Year's celebrations and resuming normal routines."
   ]
  },
  {
   "cell_type": "markdown",
   "id": "0202f726",
   "metadata": {
    "id": "0202f726"
   },
   "source": [
    "### Phases of Natural Light in which the accidents occured in January"
   ]
  },
  {
   "cell_type": "code",
   "execution_count": 32,
   "id": "0a99e60f",
   "metadata": {
    "colab": {
     "base_uri": "https://localhost:8080/",
     "height": 446
    },
    "id": "0a99e60f",
    "outputId": "7edaa9d8-4bcb-453f-989d-6c9e1e7ab4ef"
   },
   "outputs": [
    {
     "data": {
      "text/plain": [
       "Text(0.5, 1.0, 'Distribution of Accidents in January by Time of Day (Sunrise,Sunset)')"
      ]
     },
     "execution_count": 32,
     "metadata": {},
     "output_type": "execute_result"
    },
    {
     "data": {
      "image/png": "[encoded data removed]",
      "text/plain": [
       "<Figure size 432x288 with 1 Axes>"
      ]
     },
     "metadata": {},
     "output_type": "display_data"
    }
   ],
   "source": [
    "df_january['Sunrise_Sunset'].value_counts().plot(kind='pie',autopct='%1.1f%%',colors=sns.color_palette('gnuplot'))\n",
    "plt.title('Distribution of Accidents in January by Time of Day (Sunrise,Sunset)')\n"
   ]
  },
  {
   "cell_type": "code",
   "execution_count": 33,
   "id": "f8165c77",
   "metadata": {
    "colab": {
     "base_uri": "https://localhost:8080/",
     "height": 446
    },
    "id": "f8165c77",
    "outputId": "87544304-83a6-46ef-bb49-ff3fb707ebae"
   },
   "outputs": [
    {
     "data": {
      "text/plain": [
       "Text(0.5, 1.0, 'Distribution of Accidents in January by Time of Day (Civil Twilight)')"
      ]
     },
     "execution_count": 33,
     "metadata": {},
     "output_type": "execute_result"
    },
    {
     "data": {
      "image/png": "[encoded data removed]",
      "text/plain": [
       "<Figure size 432x288 with 1 Axes>"
      ]
     },
     "metadata": {},
     "output_type": "display_data"
    }
   ],
   "source": [
    "df_january['Civil_Twilight'].value_counts().plot(kind='pie',autopct='%1.1f%%',colors=sns.color_palette('gnuplot'))\n",
    "plt.title('Distribution of Accidents in January by Time of Day (Civil Twilight)')\n"
   ]
  },
  {
   "cell_type": "code",
   "execution_count": 34,
   "id": "08184e5e",
   "metadata": {
    "colab": {
     "base_uri": "https://localhost:8080/",
     "height": 446
    },
    "id": "08184e5e",
    "outputId": "a2bb6bff-87d2-42c2-d5be-e1b6aecf7f46"
   },
   "outputs": [
    {
     "data": {
      "text/plain": [
       "Text(0.5, 1.0, 'Distribution of Accidents in January by Time of Day (Nautical twilight)')"
      ]
     },
     "execution_count": 34,
     "metadata": {},
     "output_type": "execute_result"
    },
    {
     "data": {
      "image/png": "[encoded data removed]",
      "text/plain": [
       "<Figure size 432x288 with 1 Axes>"
      ]
     },
     "metadata": {},
     "output_type": "display_data"
    }
   ],
   "source": [
    "df_january['Nautical_Twilight'].value_counts().plot(kind='pie',autopct='%1.1f%%',colors=sns.color_palette('gnuplot'))\n",
    "plt.title('Distribution of Accidents in January by Time of Day (Nautical twilight)')\n"
   ]
  },
  {
   "cell_type": "markdown",
   "id": "856aab76",
   "metadata": {
    "id": "856aab76"
   },
   "source": [
    "Most accidents occured during day, this trend could be attributed to higher traffic volumes during the day when people are going to work or school. Daytime activities such as construction, road maintenance, and various outdoor activities can contribute to the increased number of accidents"
   ]
  }
 ],
 "metadata": {
  "colab": {
   "provenance": []
  },
  "kernelspec": {
   "display_name": "Python 3 (ipykernel)",
   "language": "python",
   "name": "python3"
  },
  "language_info": {
   "codemirror_mode": {
    "name": "ipython",
    "version": 3
   },
   "file_extension": ".py",
   "mimetype": "text/x-python",
   "name": "python",
   "nbconvert_exporter": "python",
   "pygments_lexer": "ipython3",
   "version": "3.12.5"
  }
 },
 "nbformat": 4,
 "nbformat_minor": 5
}
